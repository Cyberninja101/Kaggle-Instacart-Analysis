{
 "cells": [
  {
   "cell_type": "markdown",
   "id": "d8acdb6b",
   "metadata": {},
   "source": [
    "# Instacart"
   ]
  },
  {
   "cell_type": "markdown",
   "id": "116a4a40",
   "metadata": {},
   "source": [
    "## Imports"
   ]
  },
  {
   "cell_type": "code",
   "execution_count": 1,
   "id": "9671a2b6",
   "metadata": {
    "ExecuteTime": {
     "end_time": "2021-10-26T22:27:00.387274Z",
     "start_time": "2021-10-26T22:26:59.956719Z"
    }
   },
   "outputs": [],
   "source": [
    "import os\n",
    "import sys\n",
    "from pathlib import Path\n",
    "import numpy as np\n",
    "import pandas as pd\n",
    "import matplotlib as plt\n",
    "import time\n",
    "import multiprocessing as mp\n",
    "from datetime import datetime\n",
    "from tqdm import tqdm\n"
   ]
  },
  {
   "cell_type": "code",
   "execution_count": 2,
   "id": "53819b84",
   "metadata": {
    "ExecuteTime": {
     "end_time": "2021-10-26T22:27:00.402287Z",
     "start_time": "2021-10-26T22:27:00.388275Z"
    }
   },
   "outputs": [],
   "source": [
    "pd.set_option(\"display.max_rows\", None, \"display.max_columns\", None)\n"
   ]
  },
  {
   "cell_type": "code",
   "execution_count": 2,
   "id": "70321513",
   "metadata": {
    "ExecuteTime": {
     "end_time": "2021-10-26T22:27:00.418302Z",
     "start_time": "2021-10-26T22:27:00.404289Z"
    }
   },
   "outputs": [
    {
     "name": "stdout",
     "output_type": "stream",
     "text": [
      "c:\\Users\\Super\\Desktop\\Python-master\\Python_Important\\instacart\\data\n"
     ]
    }
   ],
   "source": [
    "data_path = Path.cwd() / \"data\"\n",
    "print(data_path)"
   ]
  },
  {
   "cell_type": "markdown",
   "id": "e8e5916f",
   "metadata": {},
   "source": [
    "## First Look at Datasets"
   ]
  },
  {
   "cell_type": "code",
   "execution_count": 4,
   "id": "e8293567",
   "metadata": {
    "ExecuteTime": {
     "end_time": "2021-10-26T22:27:00.433316Z",
     "start_time": "2021-10-26T22:27:00.419303Z"
    }
   },
   "outputs": [
    {
     "name": "stdout",
     "output_type": "stream",
     "text": [
      "['aisles.csv', 'departments.csv', 'order_products__prior.csv', 'order_products__train.csv', 'orders.csv', 'products.csv', 'sample_submission.csv']\n"
     ]
    }
   ],
   "source": [
    "# datasets = []\n",
    "\n",
    "# for i in os.listdir(data_path):\n",
    "#     if i[-4:] == \".csv\":\n",
    "#         datasets.append(i)\n",
    "\n",
    "# print(datasets)\n",
    "\n",
    "datasets = sorted([i for i in  os.listdir(data_path) if i[-4:] == \".csv\"])\n",
    "print(datasets)"
   ]
  },
  {
   "cell_type": "code",
   "execution_count": 5,
   "id": "2228df6b",
   "metadata": {
    "ExecuteTime": {
     "end_time": "2021-10-26T22:27:06.317424Z",
     "start_time": "2021-10-26T22:27:00.435317Z"
    }
   },
   "outputs": [
    {
     "name": "stdout",
     "output_type": "stream",
     "text": [
      "aisles.csv\n"
     ]
    },
    {
     "data": {
      "text/html": [
       "<div>\n",
       "<style scoped>\n",
       "    .dataframe tbody tr th:only-of-type {\n",
       "        vertical-align: middle;\n",
       "    }\n",
       "\n",
       "    .dataframe tbody tr th {\n",
       "        vertical-align: top;\n",
       "    }\n",
       "\n",
       "    .dataframe thead th {\n",
       "        text-align: right;\n",
       "    }\n",
       "</style>\n",
       "<table border=\"1\" class=\"dataframe\">\n",
       "  <thead>\n",
       "    <tr style=\"text-align: right;\">\n",
       "      <th></th>\n",
       "      <th>aisle_id</th>\n",
       "      <th>aisle</th>\n",
       "    </tr>\n",
       "  </thead>\n",
       "  <tbody>\n",
       "    <tr>\n",
       "      <th>0</th>\n",
       "      <td>1</td>\n",
       "      <td>prepared soups salads</td>\n",
       "    </tr>\n",
       "    <tr>\n",
       "      <th>1</th>\n",
       "      <td>2</td>\n",
       "      <td>specialty cheeses</td>\n",
       "    </tr>\n",
       "    <tr>\n",
       "      <th>2</th>\n",
       "      <td>3</td>\n",
       "      <td>energy granola bars</td>\n",
       "    </tr>\n",
       "    <tr>\n",
       "      <th>3</th>\n",
       "      <td>4</td>\n",
       "      <td>instant foods</td>\n",
       "    </tr>\n",
       "    <tr>\n",
       "      <th>4</th>\n",
       "      <td>5</td>\n",
       "      <td>marinades meat preparation</td>\n",
       "    </tr>\n",
       "  </tbody>\n",
       "</table>\n",
       "</div>"
      ],
      "text/plain": [
       "   aisle_id                       aisle\n",
       "0         1       prepared soups salads\n",
       "1         2           specialty cheeses\n",
       "2         3         energy granola bars\n",
       "3         4               instant foods\n",
       "4         5  marinades meat preparation"
      ]
     },
     "metadata": {},
     "output_type": "display_data"
    },
    {
     "name": "stdout",
     "output_type": "stream",
     "text": [
      "134\n",
      "departments.csv\n"
     ]
    },
    {
     "data": {
      "text/html": [
       "<div>\n",
       "<style scoped>\n",
       "    .dataframe tbody tr th:only-of-type {\n",
       "        vertical-align: middle;\n",
       "    }\n",
       "\n",
       "    .dataframe tbody tr th {\n",
       "        vertical-align: top;\n",
       "    }\n",
       "\n",
       "    .dataframe thead th {\n",
       "        text-align: right;\n",
       "    }\n",
       "</style>\n",
       "<table border=\"1\" class=\"dataframe\">\n",
       "  <thead>\n",
       "    <tr style=\"text-align: right;\">\n",
       "      <th></th>\n",
       "      <th>department_id</th>\n",
       "      <th>department</th>\n",
       "    </tr>\n",
       "  </thead>\n",
       "  <tbody>\n",
       "    <tr>\n",
       "      <th>0</th>\n",
       "      <td>1</td>\n",
       "      <td>frozen</td>\n",
       "    </tr>\n",
       "    <tr>\n",
       "      <th>1</th>\n",
       "      <td>2</td>\n",
       "      <td>other</td>\n",
       "    </tr>\n",
       "    <tr>\n",
       "      <th>2</th>\n",
       "      <td>3</td>\n",
       "      <td>bakery</td>\n",
       "    </tr>\n",
       "    <tr>\n",
       "      <th>3</th>\n",
       "      <td>4</td>\n",
       "      <td>produce</td>\n",
       "    </tr>\n",
       "    <tr>\n",
       "      <th>4</th>\n",
       "      <td>5</td>\n",
       "      <td>alcohol</td>\n",
       "    </tr>\n",
       "  </tbody>\n",
       "</table>\n",
       "</div>"
      ],
      "text/plain": [
       "   department_id department\n",
       "0              1     frozen\n",
       "1              2      other\n",
       "2              3     bakery\n",
       "3              4    produce\n",
       "4              5    alcohol"
      ]
     },
     "metadata": {},
     "output_type": "display_data"
    },
    {
     "name": "stdout",
     "output_type": "stream",
     "text": [
      "21\n",
      "order_products__prior.csv\n"
     ]
    },
    {
     "data": {
      "text/html": [
       "<div>\n",
       "<style scoped>\n",
       "    .dataframe tbody tr th:only-of-type {\n",
       "        vertical-align: middle;\n",
       "    }\n",
       "\n",
       "    .dataframe tbody tr th {\n",
       "        vertical-align: top;\n",
       "    }\n",
       "\n",
       "    .dataframe thead th {\n",
       "        text-align: right;\n",
       "    }\n",
       "</style>\n",
       "<table border=\"1\" class=\"dataframe\">\n",
       "  <thead>\n",
       "    <tr style=\"text-align: right;\">\n",
       "      <th></th>\n",
       "      <th>order_id</th>\n",
       "      <th>product_id</th>\n",
       "      <th>add_to_cart_order</th>\n",
       "      <th>reordered</th>\n",
       "    </tr>\n",
       "  </thead>\n",
       "  <tbody>\n",
       "    <tr>\n",
       "      <th>0</th>\n",
       "      <td>2</td>\n",
       "      <td>33120</td>\n",
       "      <td>1</td>\n",
       "      <td>1</td>\n",
       "    </tr>\n",
       "    <tr>\n",
       "      <th>1</th>\n",
       "      <td>2</td>\n",
       "      <td>28985</td>\n",
       "      <td>2</td>\n",
       "      <td>1</td>\n",
       "    </tr>\n",
       "    <tr>\n",
       "      <th>2</th>\n",
       "      <td>2</td>\n",
       "      <td>9327</td>\n",
       "      <td>3</td>\n",
       "      <td>0</td>\n",
       "    </tr>\n",
       "    <tr>\n",
       "      <th>3</th>\n",
       "      <td>2</td>\n",
       "      <td>45918</td>\n",
       "      <td>4</td>\n",
       "      <td>1</td>\n",
       "    </tr>\n",
       "    <tr>\n",
       "      <th>4</th>\n",
       "      <td>2</td>\n",
       "      <td>30035</td>\n",
       "      <td>5</td>\n",
       "      <td>0</td>\n",
       "    </tr>\n",
       "  </tbody>\n",
       "</table>\n",
       "</div>"
      ],
      "text/plain": [
       "   order_id  product_id  add_to_cart_order  reordered\n",
       "0         2       33120                  1          1\n",
       "1         2       28985                  2          1\n",
       "2         2        9327                  3          0\n",
       "3         2       45918                  4          1\n",
       "4         2       30035                  5          0"
      ]
     },
     "metadata": {},
     "output_type": "display_data"
    },
    {
     "name": "stdout",
     "output_type": "stream",
     "text": [
      "32434489\n",
      "order_products__train.csv\n"
     ]
    },
    {
     "data": {
      "text/html": [
       "<div>\n",
       "<style scoped>\n",
       "    .dataframe tbody tr th:only-of-type {\n",
       "        vertical-align: middle;\n",
       "    }\n",
       "\n",
       "    .dataframe tbody tr th {\n",
       "        vertical-align: top;\n",
       "    }\n",
       "\n",
       "    .dataframe thead th {\n",
       "        text-align: right;\n",
       "    }\n",
       "</style>\n",
       "<table border=\"1\" class=\"dataframe\">\n",
       "  <thead>\n",
       "    <tr style=\"text-align: right;\">\n",
       "      <th></th>\n",
       "      <th>order_id</th>\n",
       "      <th>product_id</th>\n",
       "      <th>add_to_cart_order</th>\n",
       "      <th>reordered</th>\n",
       "    </tr>\n",
       "  </thead>\n",
       "  <tbody>\n",
       "    <tr>\n",
       "      <th>0</th>\n",
       "      <td>1</td>\n",
       "      <td>49302</td>\n",
       "      <td>1</td>\n",
       "      <td>1</td>\n",
       "    </tr>\n",
       "    <tr>\n",
       "      <th>1</th>\n",
       "      <td>1</td>\n",
       "      <td>11109</td>\n",
       "      <td>2</td>\n",
       "      <td>1</td>\n",
       "    </tr>\n",
       "    <tr>\n",
       "      <th>2</th>\n",
       "      <td>1</td>\n",
       "      <td>10246</td>\n",
       "      <td>3</td>\n",
       "      <td>0</td>\n",
       "    </tr>\n",
       "    <tr>\n",
       "      <th>3</th>\n",
       "      <td>1</td>\n",
       "      <td>49683</td>\n",
       "      <td>4</td>\n",
       "      <td>0</td>\n",
       "    </tr>\n",
       "    <tr>\n",
       "      <th>4</th>\n",
       "      <td>1</td>\n",
       "      <td>43633</td>\n",
       "      <td>5</td>\n",
       "      <td>1</td>\n",
       "    </tr>\n",
       "  </tbody>\n",
       "</table>\n",
       "</div>"
      ],
      "text/plain": [
       "   order_id  product_id  add_to_cart_order  reordered\n",
       "0         1       49302                  1          1\n",
       "1         1       11109                  2          1\n",
       "2         1       10246                  3          0\n",
       "3         1       49683                  4          0\n",
       "4         1       43633                  5          1"
      ]
     },
     "metadata": {},
     "output_type": "display_data"
    },
    {
     "name": "stdout",
     "output_type": "stream",
     "text": [
      "1384617\n",
      "orders.csv\n"
     ]
    },
    {
     "data": {
      "text/html": [
       "<div>\n",
       "<style scoped>\n",
       "    .dataframe tbody tr th:only-of-type {\n",
       "        vertical-align: middle;\n",
       "    }\n",
       "\n",
       "    .dataframe tbody tr th {\n",
       "        vertical-align: top;\n",
       "    }\n",
       "\n",
       "    .dataframe thead th {\n",
       "        text-align: right;\n",
       "    }\n",
       "</style>\n",
       "<table border=\"1\" class=\"dataframe\">\n",
       "  <thead>\n",
       "    <tr style=\"text-align: right;\">\n",
       "      <th></th>\n",
       "      <th>order_id</th>\n",
       "      <th>user_id</th>\n",
       "      <th>eval_set</th>\n",
       "      <th>order_number</th>\n",
       "      <th>order_dow</th>\n",
       "      <th>order_hour_of_day</th>\n",
       "      <th>days_since_prior_order</th>\n",
       "    </tr>\n",
       "  </thead>\n",
       "  <tbody>\n",
       "    <tr>\n",
       "      <th>0</th>\n",
       "      <td>2539329</td>\n",
       "      <td>1</td>\n",
       "      <td>prior</td>\n",
       "      <td>1</td>\n",
       "      <td>2</td>\n",
       "      <td>8</td>\n",
       "      <td>NaN</td>\n",
       "    </tr>\n",
       "    <tr>\n",
       "      <th>1</th>\n",
       "      <td>2398795</td>\n",
       "      <td>1</td>\n",
       "      <td>prior</td>\n",
       "      <td>2</td>\n",
       "      <td>3</td>\n",
       "      <td>7</td>\n",
       "      <td>15.0</td>\n",
       "    </tr>\n",
       "    <tr>\n",
       "      <th>2</th>\n",
       "      <td>473747</td>\n",
       "      <td>1</td>\n",
       "      <td>prior</td>\n",
       "      <td>3</td>\n",
       "      <td>3</td>\n",
       "      <td>12</td>\n",
       "      <td>21.0</td>\n",
       "    </tr>\n",
       "    <tr>\n",
       "      <th>3</th>\n",
       "      <td>2254736</td>\n",
       "      <td>1</td>\n",
       "      <td>prior</td>\n",
       "      <td>4</td>\n",
       "      <td>4</td>\n",
       "      <td>7</td>\n",
       "      <td>29.0</td>\n",
       "    </tr>\n",
       "    <tr>\n",
       "      <th>4</th>\n",
       "      <td>431534</td>\n",
       "      <td>1</td>\n",
       "      <td>prior</td>\n",
       "      <td>5</td>\n",
       "      <td>4</td>\n",
       "      <td>15</td>\n",
       "      <td>28.0</td>\n",
       "    </tr>\n",
       "  </tbody>\n",
       "</table>\n",
       "</div>"
      ],
      "text/plain": [
       "   order_id  user_id eval_set  order_number  order_dow  order_hour_of_day  \\\n",
       "0   2539329        1    prior             1          2                  8   \n",
       "1   2398795        1    prior             2          3                  7   \n",
       "2    473747        1    prior             3          3                 12   \n",
       "3   2254736        1    prior             4          4                  7   \n",
       "4    431534        1    prior             5          4                 15   \n",
       "\n",
       "   days_since_prior_order  \n",
       "0                     NaN  \n",
       "1                    15.0  \n",
       "2                    21.0  \n",
       "3                    29.0  \n",
       "4                    28.0  "
      ]
     },
     "metadata": {},
     "output_type": "display_data"
    },
    {
     "name": "stdout",
     "output_type": "stream",
     "text": [
      "3421083\n",
      "products.csv\n"
     ]
    },
    {
     "data": {
      "text/html": [
       "<div>\n",
       "<style scoped>\n",
       "    .dataframe tbody tr th:only-of-type {\n",
       "        vertical-align: middle;\n",
       "    }\n",
       "\n",
       "    .dataframe tbody tr th {\n",
       "        vertical-align: top;\n",
       "    }\n",
       "\n",
       "    .dataframe thead th {\n",
       "        text-align: right;\n",
       "    }\n",
       "</style>\n",
       "<table border=\"1\" class=\"dataframe\">\n",
       "  <thead>\n",
       "    <tr style=\"text-align: right;\">\n",
       "      <th></th>\n",
       "      <th>product_id</th>\n",
       "      <th>product_name</th>\n",
       "      <th>aisle_id</th>\n",
       "      <th>department_id</th>\n",
       "    </tr>\n",
       "  </thead>\n",
       "  <tbody>\n",
       "    <tr>\n",
       "      <th>0</th>\n",
       "      <td>1</td>\n",
       "      <td>Chocolate Sandwich Cookies</td>\n",
       "      <td>61</td>\n",
       "      <td>19</td>\n",
       "    </tr>\n",
       "    <tr>\n",
       "      <th>1</th>\n",
       "      <td>2</td>\n",
       "      <td>All-Seasons Salt</td>\n",
       "      <td>104</td>\n",
       "      <td>13</td>\n",
       "    </tr>\n",
       "    <tr>\n",
       "      <th>2</th>\n",
       "      <td>3</td>\n",
       "      <td>Robust Golden Unsweetened Oolong Tea</td>\n",
       "      <td>94</td>\n",
       "      <td>7</td>\n",
       "    </tr>\n",
       "    <tr>\n",
       "      <th>3</th>\n",
       "      <td>4</td>\n",
       "      <td>Smart Ones Classic Favorites Mini Rigatoni Wit...</td>\n",
       "      <td>38</td>\n",
       "      <td>1</td>\n",
       "    </tr>\n",
       "    <tr>\n",
       "      <th>4</th>\n",
       "      <td>5</td>\n",
       "      <td>Green Chile Anytime Sauce</td>\n",
       "      <td>5</td>\n",
       "      <td>13</td>\n",
       "    </tr>\n",
       "  </tbody>\n",
       "</table>\n",
       "</div>"
      ],
      "text/plain": [
       "   product_id                                       product_name  aisle_id  \\\n",
       "0           1                         Chocolate Sandwich Cookies        61   \n",
       "1           2                                   All-Seasons Salt       104   \n",
       "2           3               Robust Golden Unsweetened Oolong Tea        94   \n",
       "3           4  Smart Ones Classic Favorites Mini Rigatoni Wit...        38   \n",
       "4           5                          Green Chile Anytime Sauce         5   \n",
       "\n",
       "   department_id  \n",
       "0             19  \n",
       "1             13  \n",
       "2              7  \n",
       "3              1  \n",
       "4             13  "
      ]
     },
     "metadata": {},
     "output_type": "display_data"
    },
    {
     "name": "stdout",
     "output_type": "stream",
     "text": [
      "49688\n",
      "sample_submission.csv\n"
     ]
    },
    {
     "data": {
      "text/html": [
       "<div>\n",
       "<style scoped>\n",
       "    .dataframe tbody tr th:only-of-type {\n",
       "        vertical-align: middle;\n",
       "    }\n",
       "\n",
       "    .dataframe tbody tr th {\n",
       "        vertical-align: top;\n",
       "    }\n",
       "\n",
       "    .dataframe thead th {\n",
       "        text-align: right;\n",
       "    }\n",
       "</style>\n",
       "<table border=\"1\" class=\"dataframe\">\n",
       "  <thead>\n",
       "    <tr style=\"text-align: right;\">\n",
       "      <th></th>\n",
       "      <th>order_id</th>\n",
       "      <th>products</th>\n",
       "    </tr>\n",
       "  </thead>\n",
       "  <tbody>\n",
       "    <tr>\n",
       "      <th>0</th>\n",
       "      <td>17</td>\n",
       "      <td>39276 29259</td>\n",
       "    </tr>\n",
       "    <tr>\n",
       "      <th>1</th>\n",
       "      <td>34</td>\n",
       "      <td>39276 29259</td>\n",
       "    </tr>\n",
       "    <tr>\n",
       "      <th>2</th>\n",
       "      <td>137</td>\n",
       "      <td>39276 29259</td>\n",
       "    </tr>\n",
       "    <tr>\n",
       "      <th>3</th>\n",
       "      <td>182</td>\n",
       "      <td>39276 29259</td>\n",
       "    </tr>\n",
       "    <tr>\n",
       "      <th>4</th>\n",
       "      <td>257</td>\n",
       "      <td>39276 29259</td>\n",
       "    </tr>\n",
       "  </tbody>\n",
       "</table>\n",
       "</div>"
      ],
      "text/plain": [
       "   order_id     products\n",
       "0        17  39276 29259\n",
       "1        34  39276 29259\n",
       "2       137  39276 29259\n",
       "3       182  39276 29259\n",
       "4       257  39276 29259"
      ]
     },
     "metadata": {},
     "output_type": "display_data"
    },
    {
     "name": "stdout",
     "output_type": "stream",
     "text": [
      "75000\n"
     ]
    }
   ],
   "source": [
    "for i in datasets:\n",
    "    print(i)\n",
    "    \n",
    "    exec(f\"{i[:-4]} = pd.read_csv(data_path / i)\")\n",
    "    exec(f\"display({i[:-4]}.head())\")\n",
    "    exec(f\"print(len({i[:-4]}))\")\n"
   ]
  },
  {
   "cell_type": "markdown",
   "id": "7e54ec91",
   "metadata": {},
   "source": [
    "### Understanding how the datasets fit together"
   ]
  },
  {
   "cell_type": "code",
   "execution_count": 6,
   "id": "99b85ff3",
   "metadata": {
    "ExecuteTime": {
     "end_time": "2021-10-26T22:27:06.333439Z",
     "start_time": "2021-10-26T22:27:06.318427Z"
    },
    "scrolled": false
   },
   "outputs": [
    {
     "name": "stdout",
     "output_type": "stream",
     "text": [
      "\n",
      "\n",
      "aisles\n",
      "['aisle_id', 'aisle']\n",
      "aisle_id\n",
      "aisle\n",
      "\n",
      "\n",
      "departments\n",
      "['department_id', 'department']\n",
      "department_id\n",
      "department\n",
      "\n",
      "\n",
      "order_products__prior\n",
      "['order_id', 'product_id', 'add_to_cart_order', 'reordered']\n",
      "order_id\n",
      "product_id\n",
      "add_to_cart_order\n",
      "reordered\n",
      "\n",
      "\n",
      "order_products__train\n",
      "['order_id', 'product_id', 'add_to_cart_order', 'reordered']\n",
      "order_id\n",
      "product_id\n",
      "add_to_cart_order\n",
      "reordered\n",
      "\n",
      "\n",
      "orders\n",
      "['order_id', 'user_id', 'eval_set', 'order_number', 'order_dow', 'order_hour_of_day', 'days_since_prior_order']\n",
      "order_id\n",
      "user_id\n",
      "eval_set\n",
      "order_number\n",
      "order_dow\n",
      "order_hour_of_day\n",
      "days_since_prior_order\n",
      "\n",
      "\n",
      "products\n",
      "['product_id', 'product_name', 'aisle_id', 'department_id']\n",
      "product_id\n",
      "product_name\n",
      "aisle_id\n",
      "department_id\n",
      "\n",
      "\n",
      "sample_submission\n",
      "['order_id', 'products']\n",
      "order_id\n",
      "products\n"
     ]
    }
   ],
   "source": [
    "for i in datasets:\n",
    "    print(\"\\n\")\n",
    "    print(i[:-4])\n",
    "    print(list(eval(f\"{i[:-4]}.columns\")))\n",
    "    # print(list(eval(f\"{i[:-4]}.unique()\")))\n",
    "    for j in eval(f\"{i[:-4]}\"):\n",
    "        print(j)\n",
    "        #print(list(eval(f\"{i[:-4]}{[j]}.unique()\")))"
   ]
  },
  {
   "cell_type": "markdown",
   "id": "fbe47d1b",
   "metadata": {},
   "source": [
    "## Join and Merge"
   ]
  },
  {
   "cell_type": "code",
   "execution_count": null,
   "id": "b7399d3a",
   "metadata": {
    "ExecuteTime": {
     "end_time": "2021-07-07T22:24:39.276359Z",
     "start_time": "2021-07-07T22:24:35.315754Z"
    },
    "deletable": false,
    "editable": false,
    "run_control": {
     "frozen": true
    },
    "scrolled": false
   },
   "outputs": [],
   "source": [
    "order_products = order_products__prior.append(order_products__train)\n",
    "order_products =order_products.sample(frac = 0.2)\n",
    "display(order_products.head())\n",
    "print(len(order_products))"
   ]
  },
  {
   "cell_type": "code",
   "execution_count": null,
   "id": "d8b7800b",
   "metadata": {
    "ExecuteTime": {
     "end_time": "2021-07-07T22:24:39.417098Z",
     "start_time": "2021-07-07T22:24:39.277361Z"
    },
    "deletable": false,
    "editable": false,
    "run_control": {
     "frozen": true
    }
   },
   "outputs": [],
   "source": [
    "orders_and_products = order_products.copy()"
   ]
  },
  {
   "cell_type": "code",
   "execution_count": null,
   "id": "1a370c1d",
   "metadata": {
    "ExecuteTime": {
     "end_time": "2021-07-07T22:24:42.963368Z",
     "start_time": "2021-07-07T22:24:39.417387Z"
    },
    "deletable": false,
    "editable": false,
    "run_control": {
     "frozen": true
    }
   },
   "outputs": [],
   "source": [
    "orders_and_products = orders_and_products.merge(products, how = \"left\",on = \"product_id\")"
   ]
  },
  {
   "cell_type": "code",
   "execution_count": null,
   "id": "2e668382",
   "metadata": {
    "ExecuteTime": {
     "end_time": "2021-07-07T22:24:43.533996Z",
     "start_time": "2021-07-07T22:24:42.964369Z"
    },
    "deletable": false,
    "editable": false,
    "run_control": {
     "frozen": true
    }
   },
   "outputs": [],
   "source": [
    "display(orders_and_products[orders_and_products[\"order_id\"] == 1])\n",
    "print(len(orders_and_products))"
   ]
  },
  {
   "cell_type": "code",
   "execution_count": null,
   "id": "c59c3b4e",
   "metadata": {
    "ExecuteTime": {
     "end_time": "2021-07-07T22:24:50.609398Z",
     "start_time": "2021-07-07T22:24:43.534996Z"
    },
    "deletable": false,
    "editable": false,
    "run_control": {
     "frozen": true
    }
   },
   "outputs": [],
   "source": [
    "orders_and_products = orders_and_products.merge(aisles, how = \"left\",on = \"aisle_id\")\n",
    "orders_and_products = orders_and_products.merge(departments, how = \"left\",on = \"department_id\")\n"
   ]
  },
  {
   "cell_type": "code",
   "execution_count": null,
   "id": "7e46df93",
   "metadata": {
    "ExecuteTime": {
     "end_time": "2021-07-07T22:24:51.754398Z",
     "start_time": "2021-07-07T22:24:50.610400Z"
    },
    "deletable": false,
    "editable": false,
    "run_control": {
     "frozen": true
    }
   },
   "outputs": [],
   "source": [
    "display(orders_and_products[orders_and_products[\"order_id\"] == 1])\n",
    "print(len(orders_and_products))"
   ]
  },
  {
   "cell_type": "code",
   "execution_count": null,
   "id": "6eb24853",
   "metadata": {
    "ExecuteTime": {
     "end_time": "2021-07-07T22:25:06.608356Z",
     "start_time": "2021-07-07T22:24:51.756400Z"
    },
    "deletable": false,
    "editable": false,
    "run_control": {
     "frozen": true
    }
   },
   "outputs": [],
   "source": [
    "orders_and_products = orders_and_products.merge(orders, how = \"left\",on = \"order_id\")"
   ]
  },
  {
   "cell_type": "code",
   "execution_count": null,
   "id": "2845b5fe",
   "metadata": {
    "ExecuteTime": {
     "end_time": "2021-07-07T22:25:08.322989Z",
     "start_time": "2021-07-07T22:25:06.609358Z"
    },
    "deletable": false,
    "editable": false,
    "run_control": {
     "frozen": true
    }
   },
   "outputs": [],
   "source": [
    "display(orders_and_products[orders_and_products[\"order_id\"] == 1])\n",
    "print(len(orders_and_products))"
   ]
  },
  {
   "cell_type": "markdown",
   "id": "711f9368",
   "metadata": {
    "ExecuteTime": {
     "end_time": "2021-07-07T22:14:00.790397Z",
     "start_time": "2021-07-07T22:14:00.790397Z"
    }
   },
   "source": [
    "## Augmenting Data"
   ]
  },
  {
   "cell_type": "markdown",
   "id": "8a6d9654",
   "metadata": {},
   "source": [
    "### Functions"
   ]
  },
  {
   "cell_type": "code",
   "execution_count": null,
   "id": "4322fca0",
   "metadata": {
    "ExecuteTime": {
     "end_time": "2021-10-26T22:27:06.349453Z",
     "start_time": "2021-10-26T22:27:06.334440Z"
    }
   },
   "outputs": [],
   "source": [
    "def find_items_in_order(product_id):\n",
    "    x = order_products[product_id == order_products[\"product_id\"]]\n",
    "    orders = list(x[\"order_id\"].unique())\n",
    "    items = 0\n",
    "    for i in orders:\n",
    "        items += len(order_products[i == order_products[\"order_id\"]][\"product_id\"].unique())\n",
    "    if len(orders) == 0:\n",
    "        return 0\n",
    "    return items / len(orders)\n",
    "\n"
   ]
  },
  {
   "cell_type": "code",
   "execution_count": null,
   "id": "9ca8cad3",
   "metadata": {
    "ExecuteTime": {
     "end_time": "2021-10-26T22:27:06.364467Z",
     "start_time": "2021-10-26T22:27:06.351455Z"
    }
   },
   "outputs": [],
   "source": [
    "def find_items_in_order_mp(df, data_path, counter):\n",
    "    start = time.time()\n",
    "    idxs = list(df.index)\n",
    "    # df[\"counter\"] = counter\n",
    "    for i in idxs:\n",
    "        \n",
    "        product_id = df.loc[i, \"product_id\"]\n",
    "        x = order_products[product_id == order_products[\"product_id\"]]\n",
    "        orders = list(x[\"order_id\"].unique())\n",
    "        items = 0\n",
    "        for j in orders:\n",
    "            items += len(order_products[j == order_products[\"order_id\"]][\"product_id\"].unique())\n",
    "        if len(orders) == 0:\n",
    "            df.loc[i, \"items_in_order_average\"] = 0\n",
    "        else:\n",
    "            df.loc[i, \"items_in_order_average\"] = items / len(orders)\n",
    "        \n",
    "        \n",
    "        \n",
    "        # print(i, counter)\n",
    "        if counter < 1 and i % 24 == 0:\n",
    "            now = time.time()\n",
    "            print(\" \\n\\n\\nthe program has elapsed for (mins): \" + str(round(((now - start)/60), 2)))\n",
    "            print(\"percentage completed: \" + str(round(idxs.index(i) * 100 / len(df))))\n",
    "            df.loc[i, \"counter\"] = counter\n",
    "        \n",
    "        counter += 1e-8\n",
    "        \n",
    "        \n",
    "        \n",
    "    # queue.put(results)\n",
    "    df.to_csv(data_path / \"augmented\" / f\"results_{int(counter)}.csv\", index = False)"
   ]
  },
  {
   "cell_type": "code",
   "execution_count": null,
   "id": "89710168",
   "metadata": {
    "ExecuteTime": {
     "end_time": "2021-10-26T22:27:06.379757Z",
     "start_time": "2021-10-26T22:27:06.364467Z"
    }
   },
   "outputs": [],
   "source": [
    "def find_order_times(products_info, product_id, index):\n",
    "    x = order_products[product_id == order_products[\"product_id\"]]\n",
    "    order_days = list(x[\"order_dow\"])\n",
    "    for i in order_days:\n",
    "        products_info.loc[index, f\"day_of_week:{i}\"] += 1\n",
    "\n",
    "\n",
    "    order_hours = list(x[\"order_hour_of_day\"])\n",
    "    for i in order_hours:\n",
    "        products_info.loc[index, f\"hour_of_day:{i}\"] += 1\n",
    "    \n",
    "    return products_info\n"
   ]
  },
  {
   "cell_type": "markdown",
   "id": "38b9ae29",
   "metadata": {},
   "source": [
    "### Single Loop"
   ]
  },
  {
   "cell_type": "code",
   "execution_count": null,
   "id": "c296f44d",
   "metadata": {
    "ExecuteTime": {
     "start_time": "2021-10-26T22:27:00.080Z"
    }
   },
   "outputs": [],
   "source": [
    "order_products = order_products__prior.append(order_products__train)\n",
    "order_products = order_products.sample(frac = 0.2)\n",
    "\n",
    "products_info = products.copy()\n",
    "display(products_info.head())\n",
    "print(len(products_info))\n",
    "\n",
    "display(order_products.head())\n",
    "print(len(order_products))"
   ]
  },
  {
   "cell_type": "code",
   "execution_count": null,
   "id": "4606881b",
   "metadata": {
    "ExecuteTime": {
     "start_time": "2021-10-26T22:27:00.080Z"
    }
   },
   "outputs": [],
   "source": [
    "order_products = order_products.merge(orders, how = \"left\",on = \"order_id\")"
   ]
  },
  {
   "cell_type": "code",
   "execution_count": null,
   "id": "d98f2a5b",
   "metadata": {
    "ExecuteTime": {
     "start_time": "2021-10-26T22:27:00.082Z"
    }
   },
   "outputs": [],
   "source": [
    "display(order_products[order_products[\"order_id\"] == 1])"
   ]
  },
  {
   "cell_type": "code",
   "execution_count": null,
   "id": "1e71a469",
   "metadata": {
    "ExecuteTime": {
     "start_time": "2021-10-26T22:27:00.083Z"
    }
   },
   "outputs": [],
   "source": [
    "products_info[\"times_ordered\"] = 0\n",
    "products_info[\"add_to_cart_order_average\"] = 0\n",
    "\n",
    "products_info[\"days_since_prior_order_average\"] = 0\n",
    "products_info[\"times_reordered_average\"] = 0\n",
    "products_info[\"items_in_order_average\"] = 0\n",
    "for i in range(7):\n",
    "    products_info[f\"day_of_week:{i}\"] = 0\n",
    "for i in range(24):\n",
    "    products_info[f\"hour_of_day:{i}\"] = 0\n"
   ]
  },
  {
   "cell_type": "code",
   "execution_count": null,
   "id": "637407f6",
   "metadata": {
    "ExecuteTime": {
     "start_time": "2021-10-26T22:27:00.086Z"
    }
   },
   "outputs": [],
   "source": [
    "display(products_info.head(15))"
   ]
  },
  {
   "cell_type": "markdown",
   "id": "af89e82f",
   "metadata": {},
   "source": []
  },
  {
   "cell_type": "code",
   "execution_count": null,
   "id": "0f2e0e78",
   "metadata": {
    "ExecuteTime": {
     "start_time": "2021-10-26T22:27:00.102Z"
    },
    "scrolled": true
   },
   "outputs": [],
   "source": [
    "#all lines: 1 min 1 sec\n",
    "# not last line: 1 min 0.4 sec\n",
    "# not items in order average: 2.15 sec"
   ]
  },
  {
   "cell_type": "code",
   "execution_count": null,
   "id": "9b2565c8",
   "metadata": {
    "ExecuteTime": {
     "start_time": "2021-10-26T22:27:00.103Z"
    }
   },
   "outputs": [],
   "source": [
    "%%time\n",
    "for i in tqdm(range(len(products_info))):\n",
    "#     if i == 3:\n",
    "#         break\n",
    "    product_id = products_info.loc[i, \"product_id\"]\n",
    "    products_info.loc[i, \"times_ordered\"] = len(order_products.loc[order_products[\"product_id\"] == product_id][\"order_id\"].unique())\n",
    "    products_info.loc[i, \"add_to_cart_order_average\"] = np.mean(order_products.loc[order_products[\"product_id\"] == product_id][\"add_to_cart_order\"])\n",
    "    products_info.loc[i, \"days_since_prior_order_average\"] = np.mean(order_products.loc[order_products[\"product_id\"] == product_id][\"days_since_prior_order\"])\n",
    "    products_info.loc[i, \"times_reordered_average\"] = np.mean(order_products[order_products[\"product_id\"] == product_id][\"reordered\"])\n",
    "#     products_info[\"items_in_order_average\"][i] = find_items_in_order(product_id)\n",
    "    products_info = find_order_times(products_info, product_id, i)\n"
   ]
  },
  {
   "cell_type": "code",
   "execution_count": null,
   "id": "aac3376e",
   "metadata": {
    "ExecuteTime": {
     "start_time": "2021-10-26T22:27:00.105Z"
    }
   },
   "outputs": [],
   "source": [
    "display(products_info.head())"
   ]
  },
  {
   "cell_type": "code",
   "execution_count": null,
   "id": "e6154f06",
   "metadata": {
    "ExecuteTime": {
     "start_time": "2021-10-26T22:27:00.106Z"
    }
   },
   "outputs": [],
   "source": [
    "print(len(products_info))\n",
    "test = products_info.sample(frac=0.005)\n",
    "print(len(test))\n",
    "test[\"items_in_order_average\"] = test[\"product_id\"].apply(find_items_in_order)\n",
    "# previous line same as: products_info[\"items_in_order_average\"][i] = find_items_in_order(product_id)\n",
    "# test[\"example\"] = test[\"product_id\"].apply(lambda x:x += 10)\n",
    "\n",
    "# test[\"example\"] = test[\"product_id\"] + 10\n"
   ]
  },
  {
   "cell_type": "code",
   "execution_count": null,
   "id": "c1ca0002",
   "metadata": {
    "ExecuteTime": {
     "start_time": "2021-10-26T22:27:00.107Z"
    }
   },
   "outputs": [],
   "source": [
    "products_info.to_csv(data_path / \"augmented\" / \"products_info_part1.csv\", index = False)"
   ]
  },
  {
   "cell_type": "code",
   "execution_count": 7,
   "id": "8cfe780c",
   "metadata": {
    "ExecuteTime": {
     "start_time": "2021-10-26T22:27:00.108Z"
    }
   },
   "outputs": [],
   "source": [
    "products_info = pd.read_csv(data_path / \"augmented\" / \"products_info_part1.csv\")"
   ]
  },
  {
   "cell_type": "markdown",
   "id": "470f1dce",
   "metadata": {},
   "source": [
    "### Multiprocessing"
   ]
  },
  {
   "cell_type": "code",
   "execution_count": null,
   "id": "fac24260",
   "metadata": {
    "ExecuteTime": {
     "start_time": "2021-10-26T22:27:00.124Z"
    }
   },
   "outputs": [],
   "source": [
    "# n_jobs = 10\n",
    "\n",
    "# for i in range(n_jobs):\n",
    "#     #launch a task\n",
    "#     pass"
   ]
  },
  {
   "cell_type": "code",
   "execution_count": 8,
   "metadata": {},
   "outputs": [
    {
     "data": {
      "text/html": [
       "<div>\n",
       "<style scoped>\n",
       "    .dataframe tbody tr th:only-of-type {\n",
       "        vertical-align: middle;\n",
       "    }\n",
       "\n",
       "    .dataframe tbody tr th {\n",
       "        vertical-align: top;\n",
       "    }\n",
       "\n",
       "    .dataframe thead th {\n",
       "        text-align: right;\n",
       "    }\n",
       "</style>\n",
       "<table border=\"1\" class=\"dataframe\">\n",
       "  <thead>\n",
       "    <tr style=\"text-align: right;\">\n",
       "      <th></th>\n",
       "      <th>product_id</th>\n",
       "      <th>product_name</th>\n",
       "      <th>aisle_id</th>\n",
       "      <th>department_id</th>\n",
       "      <th>times_ordered</th>\n",
       "      <th>add_to_cart_order_average</th>\n",
       "      <th>days_since_prior_order_average</th>\n",
       "      <th>times_reordered_average</th>\n",
       "      <th>items_in_order_average</th>\n",
       "      <th>day_of_week:0</th>\n",
       "      <th>day_of_week:1</th>\n",
       "      <th>day_of_week:2</th>\n",
       "      <th>day_of_week:3</th>\n",
       "      <th>day_of_week:4</th>\n",
       "      <th>day_of_week:5</th>\n",
       "      <th>day_of_week:6</th>\n",
       "      <th>hour_of_day:0</th>\n",
       "      <th>hour_of_day:1</th>\n",
       "      <th>hour_of_day:2</th>\n",
       "      <th>hour_of_day:3</th>\n",
       "      <th>hour_of_day:4</th>\n",
       "      <th>hour_of_day:5</th>\n",
       "      <th>hour_of_day:6</th>\n",
       "      <th>hour_of_day:7</th>\n",
       "      <th>hour_of_day:8</th>\n",
       "      <th>hour_of_day:9</th>\n",
       "      <th>hour_of_day:10</th>\n",
       "      <th>hour_of_day:11</th>\n",
       "      <th>hour_of_day:12</th>\n",
       "      <th>hour_of_day:13</th>\n",
       "      <th>hour_of_day:14</th>\n",
       "      <th>hour_of_day:15</th>\n",
       "      <th>hour_of_day:16</th>\n",
       "      <th>hour_of_day:17</th>\n",
       "      <th>hour_of_day:18</th>\n",
       "      <th>hour_of_day:19</th>\n",
       "      <th>hour_of_day:20</th>\n",
       "      <th>hour_of_day:21</th>\n",
       "      <th>hour_of_day:22</th>\n",
       "      <th>hour_of_day:23</th>\n",
       "    </tr>\n",
       "  </thead>\n",
       "  <tbody>\n",
       "    <tr>\n",
       "      <th>0</th>\n",
       "      <td>1</td>\n",
       "      <td>Chocolate Sandwich Cookies</td>\n",
       "      <td>61</td>\n",
       "      <td>19</td>\n",
       "      <td>390</td>\n",
       "      <td>6.151282</td>\n",
       "      <td>10.277473</td>\n",
       "      <td>0.635897</td>\n",
       "      <td>0</td>\n",
       "      <td>40</td>\n",
       "      <td>83</td>\n",
       "      <td>65</td>\n",
       "      <td>45</td>\n",
       "      <td>61</td>\n",
       "      <td>67</td>\n",
       "      <td>29</td>\n",
       "      <td>3</td>\n",
       "      <td>2</td>\n",
       "      <td>3</td>\n",
       "      <td>2</td>\n",
       "      <td>1</td>\n",
       "      <td>1</td>\n",
       "      <td>3</td>\n",
       "      <td>7</td>\n",
       "      <td>16</td>\n",
       "      <td>20</td>\n",
       "      <td>52</td>\n",
       "      <td>32</td>\n",
       "      <td>33</td>\n",
       "      <td>42</td>\n",
       "      <td>37</td>\n",
       "      <td>21</td>\n",
       "      <td>27</td>\n",
       "      <td>30</td>\n",
       "      <td>11</td>\n",
       "      <td>11</td>\n",
       "      <td>8</td>\n",
       "      <td>8</td>\n",
       "      <td>10</td>\n",
       "      <td>10</td>\n",
       "    </tr>\n",
       "    <tr>\n",
       "      <th>1</th>\n",
       "      <td>2</td>\n",
       "      <td>All-Seasons Salt</td>\n",
       "      <td>104</td>\n",
       "      <td>13</td>\n",
       "      <td>15</td>\n",
       "      <td>9.733333</td>\n",
       "      <td>6.714286</td>\n",
       "      <td>0.133333</td>\n",
       "      <td>0</td>\n",
       "      <td>3</td>\n",
       "      <td>0</td>\n",
       "      <td>0</td>\n",
       "      <td>2</td>\n",
       "      <td>4</td>\n",
       "      <td>1</td>\n",
       "      <td>5</td>\n",
       "      <td>0</td>\n",
       "      <td>0</td>\n",
       "      <td>0</td>\n",
       "      <td>0</td>\n",
       "      <td>0</td>\n",
       "      <td>0</td>\n",
       "      <td>0</td>\n",
       "      <td>0</td>\n",
       "      <td>1</td>\n",
       "      <td>0</td>\n",
       "      <td>1</td>\n",
       "      <td>1</td>\n",
       "      <td>3</td>\n",
       "      <td>2</td>\n",
       "      <td>0</td>\n",
       "      <td>2</td>\n",
       "      <td>2</td>\n",
       "      <td>1</td>\n",
       "      <td>1</td>\n",
       "      <td>0</td>\n",
       "      <td>1</td>\n",
       "      <td>0</td>\n",
       "      <td>0</td>\n",
       "      <td>0</td>\n",
       "    </tr>\n",
       "    <tr>\n",
       "      <th>2</th>\n",
       "      <td>3</td>\n",
       "      <td>Robust Golden Unsweetened Oolong Tea</td>\n",
       "      <td>94</td>\n",
       "      <td>7</td>\n",
       "      <td>48</td>\n",
       "      <td>7.770833</td>\n",
       "      <td>9.333333</td>\n",
       "      <td>0.562500</td>\n",
       "      <td>0</td>\n",
       "      <td>7</td>\n",
       "      <td>16</td>\n",
       "      <td>9</td>\n",
       "      <td>3</td>\n",
       "      <td>5</td>\n",
       "      <td>3</td>\n",
       "      <td>5</td>\n",
       "      <td>1</td>\n",
       "      <td>1</td>\n",
       "      <td>0</td>\n",
       "      <td>0</td>\n",
       "      <td>0</td>\n",
       "      <td>0</td>\n",
       "      <td>1</td>\n",
       "      <td>2</td>\n",
       "      <td>3</td>\n",
       "      <td>6</td>\n",
       "      <td>1</td>\n",
       "      <td>4</td>\n",
       "      <td>6</td>\n",
       "      <td>4</td>\n",
       "      <td>5</td>\n",
       "      <td>3</td>\n",
       "      <td>0</td>\n",
       "      <td>3</td>\n",
       "      <td>2</td>\n",
       "      <td>2</td>\n",
       "      <td>0</td>\n",
       "      <td>3</td>\n",
       "      <td>1</td>\n",
       "      <td>0</td>\n",
       "    </tr>\n",
       "    <tr>\n",
       "      <th>3</th>\n",
       "      <td>4</td>\n",
       "      <td>Smart Ones Classic Favorites Mini Rigatoni Wit...</td>\n",
       "      <td>38</td>\n",
       "      <td>1</td>\n",
       "      <td>71</td>\n",
       "      <td>9.563380</td>\n",
       "      <td>15.552239</td>\n",
       "      <td>0.436620</td>\n",
       "      <td>0</td>\n",
       "      <td>18</td>\n",
       "      <td>13</td>\n",
       "      <td>5</td>\n",
       "      <td>5</td>\n",
       "      <td>9</td>\n",
       "      <td>8</td>\n",
       "      <td>13</td>\n",
       "      <td>2</td>\n",
       "      <td>0</td>\n",
       "      <td>0</td>\n",
       "      <td>0</td>\n",
       "      <td>0</td>\n",
       "      <td>0</td>\n",
       "      <td>0</td>\n",
       "      <td>0</td>\n",
       "      <td>7</td>\n",
       "      <td>4</td>\n",
       "      <td>4</td>\n",
       "      <td>6</td>\n",
       "      <td>5</td>\n",
       "      <td>4</td>\n",
       "      <td>10</td>\n",
       "      <td>6</td>\n",
       "      <td>7</td>\n",
       "      <td>6</td>\n",
       "      <td>2</td>\n",
       "      <td>3</td>\n",
       "      <td>3</td>\n",
       "      <td>0</td>\n",
       "      <td>0</td>\n",
       "      <td>2</td>\n",
       "    </tr>\n",
       "    <tr>\n",
       "      <th>4</th>\n",
       "      <td>5</td>\n",
       "      <td>Green Chile Anytime Sauce</td>\n",
       "      <td>5</td>\n",
       "      <td>13</td>\n",
       "      <td>1</td>\n",
       "      <td>12.000000</td>\n",
       "      <td>30.000000</td>\n",
       "      <td>1.000000</td>\n",
       "      <td>0</td>\n",
       "      <td>0</td>\n",
       "      <td>0</td>\n",
       "      <td>1</td>\n",
       "      <td>0</td>\n",
       "      <td>0</td>\n",
       "      <td>0</td>\n",
       "      <td>0</td>\n",
       "      <td>0</td>\n",
       "      <td>0</td>\n",
       "      <td>0</td>\n",
       "      <td>0</td>\n",
       "      <td>0</td>\n",
       "      <td>0</td>\n",
       "      <td>0</td>\n",
       "      <td>0</td>\n",
       "      <td>1</td>\n",
       "      <td>0</td>\n",
       "      <td>0</td>\n",
       "      <td>0</td>\n",
       "      <td>0</td>\n",
       "      <td>0</td>\n",
       "      <td>0</td>\n",
       "      <td>0</td>\n",
       "      <td>0</td>\n",
       "      <td>0</td>\n",
       "      <td>0</td>\n",
       "      <td>0</td>\n",
       "      <td>0</td>\n",
       "      <td>0</td>\n",
       "      <td>0</td>\n",
       "      <td>0</td>\n",
       "    </tr>\n",
       "  </tbody>\n",
       "</table>\n",
       "</div>"
      ],
      "text/plain": [
       "   product_id                                       product_name  aisle_id  \\\n",
       "0           1                         Chocolate Sandwich Cookies        61   \n",
       "1           2                                   All-Seasons Salt       104   \n",
       "2           3               Robust Golden Unsweetened Oolong Tea        94   \n",
       "3           4  Smart Ones Classic Favorites Mini Rigatoni Wit...        38   \n",
       "4           5                          Green Chile Anytime Sauce         5   \n",
       "\n",
       "   department_id  times_ordered  add_to_cart_order_average  \\\n",
       "0             19            390                   6.151282   \n",
       "1             13             15                   9.733333   \n",
       "2              7             48                   7.770833   \n",
       "3              1             71                   9.563380   \n",
       "4             13              1                  12.000000   \n",
       "\n",
       "   days_since_prior_order_average  times_reordered_average  \\\n",
       "0                       10.277473                 0.635897   \n",
       "1                        6.714286                 0.133333   \n",
       "2                        9.333333                 0.562500   \n",
       "3                       15.552239                 0.436620   \n",
       "4                       30.000000                 1.000000   \n",
       "\n",
       "   items_in_order_average  day_of_week:0  day_of_week:1  day_of_week:2  \\\n",
       "0                       0             40             83             65   \n",
       "1                       0              3              0              0   \n",
       "2                       0              7             16              9   \n",
       "3                       0             18             13              5   \n",
       "4                       0              0              0              1   \n",
       "\n",
       "   day_of_week:3  day_of_week:4  day_of_week:5  day_of_week:6  hour_of_day:0  \\\n",
       "0             45             61             67             29              3   \n",
       "1              2              4              1              5              0   \n",
       "2              3              5              3              5              1   \n",
       "3              5              9              8             13              2   \n",
       "4              0              0              0              0              0   \n",
       "\n",
       "   hour_of_day:1  hour_of_day:2  hour_of_day:3  hour_of_day:4  hour_of_day:5  \\\n",
       "0              2              3              2              1              1   \n",
       "1              0              0              0              0              0   \n",
       "2              1              0              0              0              0   \n",
       "3              0              0              0              0              0   \n",
       "4              0              0              0              0              0   \n",
       "\n",
       "   hour_of_day:6  hour_of_day:7  hour_of_day:8  hour_of_day:9  hour_of_day:10  \\\n",
       "0              3              7             16             20              52   \n",
       "1              0              0              1              0               1   \n",
       "2              1              2              3              6               1   \n",
       "3              0              0              7              4               4   \n",
       "4              0              0              1              0               0   \n",
       "\n",
       "   hour_of_day:11  hour_of_day:12  hour_of_day:13  hour_of_day:14  \\\n",
       "0              32              33              42              37   \n",
       "1               1               3               2               0   \n",
       "2               4               6               4               5   \n",
       "3               6               5               4              10   \n",
       "4               0               0               0               0   \n",
       "\n",
       "   hour_of_day:15  hour_of_day:16  hour_of_day:17  hour_of_day:18  \\\n",
       "0              21              27              30              11   \n",
       "1               2               2               1               1   \n",
       "2               3               0               3               2   \n",
       "3               6               7               6               2   \n",
       "4               0               0               0               0   \n",
       "\n",
       "   hour_of_day:19  hour_of_day:20  hour_of_day:21  hour_of_day:22  \\\n",
       "0              11               8               8              10   \n",
       "1               0               1               0               0   \n",
       "2               2               0               3               1   \n",
       "3               3               3               0               0   \n",
       "4               0               0               0               0   \n",
       "\n",
       "   hour_of_day:23  \n",
       "0              10  \n",
       "1               0  \n",
       "2               0  \n",
       "3               2  \n",
       "4               0  "
      ]
     },
     "metadata": {},
     "output_type": "display_data"
    }
   ],
   "source": [
    "display(products_info.head())"
   ]
  },
  {
   "cell_type": "code",
   "execution_count": null,
   "id": "169db429",
   "metadata": {
    "ExecuteTime": {
     "start_time": "2021-10-26T22:27:00.125Z"
    }
   },
   "outputs": [],
   "source": [
    "# When this section starts, restart this cell as it was the messed up one from before\n",
    "n_jobs = 7\n",
    "# df_split is type list containg 8 pd.DFs\n",
    "df_split = np.array_split(products_info, n_jobs)\n",
    "# queue = mp.Queue()\n",
    "jobs = []\n",
    "counter = 0\n",
    "for i in range(n_jobs):\n",
    "    p = mp.Process(target=find_items_in_order_mp, args=(df_split[i], data_path, counter))\n",
    "    jobs.append(p)\n",
    "    counter += 1\n",
    "for task in jobs:\n",
    "    task.start()\n",
    "\n",
    "for task in jobs:\n",
    "    task.join()\n",
    "\n",
    "\n"
   ]
  },
  {
   "cell_type": "code",
   "execution_count": 4,
   "id": "8ee90a15",
   "metadata": {
    "ExecuteTime": {
     "start_time": "2021-10-26T22:27:00.126Z"
    }
   },
   "outputs": [
    {
     "data": {
      "text/html": [
       "<div>\n",
       "<style scoped>\n",
       "    .dataframe tbody tr th:only-of-type {\n",
       "        vertical-align: middle;\n",
       "    }\n",
       "\n",
       "    .dataframe tbody tr th {\n",
       "        vertical-align: top;\n",
       "    }\n",
       "\n",
       "    .dataframe thead th {\n",
       "        text-align: right;\n",
       "    }\n",
       "</style>\n",
       "<table border=\"1\" class=\"dataframe\">\n",
       "  <thead>\n",
       "    <tr style=\"text-align: right;\">\n",
       "      <th></th>\n",
       "      <th>product_id</th>\n",
       "      <th>product_name</th>\n",
       "      <th>aisle_id</th>\n",
       "      <th>department_id</th>\n",
       "      <th>times_ordered</th>\n",
       "      <th>add_to_cart_order_average</th>\n",
       "      <th>days_since_prior_order_average</th>\n",
       "      <th>times_reordered_average</th>\n",
       "      <th>items_in_order_average</th>\n",
       "      <th>day_of_week:0</th>\n",
       "      <th>...</th>\n",
       "      <th>hour_of_day:15</th>\n",
       "      <th>hour_of_day:16</th>\n",
       "      <th>hour_of_day:17</th>\n",
       "      <th>hour_of_day:18</th>\n",
       "      <th>hour_of_day:19</th>\n",
       "      <th>hour_of_day:20</th>\n",
       "      <th>hour_of_day:21</th>\n",
       "      <th>hour_of_day:22</th>\n",
       "      <th>hour_of_day:23</th>\n",
       "      <th>counter</th>\n",
       "    </tr>\n",
       "  </thead>\n",
       "  <tbody>\n",
       "    <tr>\n",
       "      <th>0</th>\n",
       "      <td>1</td>\n",
       "      <td>Chocolate Sandwich Cookies</td>\n",
       "      <td>61</td>\n",
       "      <td>19</td>\n",
       "      <td>390</td>\n",
       "      <td>6.151282</td>\n",
       "      <td>10.277473</td>\n",
       "      <td>0.635897</td>\n",
       "      <td>2.848101</td>\n",
       "      <td>40</td>\n",
       "      <td>...</td>\n",
       "      <td>21</td>\n",
       "      <td>27</td>\n",
       "      <td>30</td>\n",
       "      <td>11</td>\n",
       "      <td>11</td>\n",
       "      <td>8</td>\n",
       "      <td>8</td>\n",
       "      <td>10</td>\n",
       "      <td>10</td>\n",
       "      <td>0.000000e+00</td>\n",
       "    </tr>\n",
       "    <tr>\n",
       "      <th>24</th>\n",
       "      <td>25</td>\n",
       "      <td>Salted Caramel Lean Protein &amp; Fiber Bar</td>\n",
       "      <td>3</td>\n",
       "      <td>19</td>\n",
       "      <td>419</td>\n",
       "      <td>9.448687</td>\n",
       "      <td>10.829949</td>\n",
       "      <td>0.613365</td>\n",
       "      <td>4.774118</td>\n",
       "      <td>97</td>\n",
       "      <td>...</td>\n",
       "      <td>28</td>\n",
       "      <td>30</td>\n",
       "      <td>21</td>\n",
       "      <td>20</td>\n",
       "      <td>20</td>\n",
       "      <td>12</td>\n",
       "      <td>7</td>\n",
       "      <td>6</td>\n",
       "      <td>8</td>\n",
       "      <td>2.400000e-07</td>\n",
       "    </tr>\n",
       "    <tr>\n",
       "      <th>48</th>\n",
       "      <td>49</td>\n",
       "      <td>Vegetarian Grain Meat Sausages Italian - 4 CT</td>\n",
       "      <td>14</td>\n",
       "      <td>20</td>\n",
       "      <td>513</td>\n",
       "      <td>9.056530</td>\n",
       "      <td>12.074534</td>\n",
       "      <td>0.623782</td>\n",
       "      <td>4.265873</td>\n",
       "      <td>115</td>\n",
       "      <td>...</td>\n",
       "      <td>37</td>\n",
       "      <td>36</td>\n",
       "      <td>42</td>\n",
       "      <td>22</td>\n",
       "      <td>23</td>\n",
       "      <td>24</td>\n",
       "      <td>12</td>\n",
       "      <td>11</td>\n",
       "      <td>7</td>\n",
       "      <td>4.800000e-07</td>\n",
       "    </tr>\n",
       "    <tr>\n",
       "      <th>72</th>\n",
       "      <td>73</td>\n",
       "      <td>Jasmine Tea Unfiltered Ginger Ale</td>\n",
       "      <td>77</td>\n",
       "      <td>7</td>\n",
       "      <td>5</td>\n",
       "      <td>10.600000</td>\n",
       "      <td>18.000000</td>\n",
       "      <td>0.400000</td>\n",
       "      <td>2.571429</td>\n",
       "      <td>0</td>\n",
       "      <td>...</td>\n",
       "      <td>2</td>\n",
       "      <td>0</td>\n",
       "      <td>0</td>\n",
       "      <td>0</td>\n",
       "      <td>0</td>\n",
       "      <td>0</td>\n",
       "      <td>0</td>\n",
       "      <td>0</td>\n",
       "      <td>1</td>\n",
       "      <td>7.200000e-07</td>\n",
       "    </tr>\n",
       "    <tr>\n",
       "      <th>96</th>\n",
       "      <td>97</td>\n",
       "      <td>Organic Chamomile Lemon Tea</td>\n",
       "      <td>94</td>\n",
       "      <td>7</td>\n",
       "      <td>36</td>\n",
       "      <td>8.638889</td>\n",
       "      <td>10.694444</td>\n",
       "      <td>0.277778</td>\n",
       "      <td>4.250000</td>\n",
       "      <td>2</td>\n",
       "      <td>...</td>\n",
       "      <td>3</td>\n",
       "      <td>0</td>\n",
       "      <td>3</td>\n",
       "      <td>1</td>\n",
       "      <td>0</td>\n",
       "      <td>1</td>\n",
       "      <td>1</td>\n",
       "      <td>0</td>\n",
       "      <td>1</td>\n",
       "      <td>9.600000e-07</td>\n",
       "    </tr>\n",
       "  </tbody>\n",
       "</table>\n",
       "<p>5 rows × 41 columns</p>\n",
       "</div>"
      ],
      "text/plain": [
       "    product_id                                   product_name  aisle_id  \\\n",
       "0            1                     Chocolate Sandwich Cookies        61   \n",
       "24          25        Salted Caramel Lean Protein & Fiber Bar         3   \n",
       "48          49  Vegetarian Grain Meat Sausages Italian - 4 CT        14   \n",
       "72          73              Jasmine Tea Unfiltered Ginger Ale        77   \n",
       "96          97                    Organic Chamomile Lemon Tea        94   \n",
       "\n",
       "    department_id  times_ordered  add_to_cart_order_average  \\\n",
       "0              19            390                   6.151282   \n",
       "24             19            419                   9.448687   \n",
       "48             20            513                   9.056530   \n",
       "72              7              5                  10.600000   \n",
       "96              7             36                   8.638889   \n",
       "\n",
       "    days_since_prior_order_average  times_reordered_average  \\\n",
       "0                        10.277473                 0.635897   \n",
       "24                       10.829949                 0.613365   \n",
       "48                       12.074534                 0.623782   \n",
       "72                       18.000000                 0.400000   \n",
       "96                       10.694444                 0.277778   \n",
       "\n",
       "    items_in_order_average  day_of_week:0  ...  hour_of_day:15  \\\n",
       "0                 2.848101             40  ...              21   \n",
       "24                4.774118             97  ...              28   \n",
       "48                4.265873            115  ...              37   \n",
       "72                2.571429              0  ...               2   \n",
       "96                4.250000              2  ...               3   \n",
       "\n",
       "    hour_of_day:16  hour_of_day:17  hour_of_day:18  hour_of_day:19  \\\n",
       "0               27              30              11              11   \n",
       "24              30              21              20              20   \n",
       "48              36              42              22              23   \n",
       "72               0               0               0               0   \n",
       "96               0               3               1               0   \n",
       "\n",
       "    hour_of_day:20  hour_of_day:21  hour_of_day:22  hour_of_day:23  \\\n",
       "0                8               8              10              10   \n",
       "24              12               7               6               8   \n",
       "48              24              12              11               7   \n",
       "72               0               0               0               1   \n",
       "96               1               1               0               1   \n",
       "\n",
       "         counter  \n",
       "0   0.000000e+00  \n",
       "24  2.400000e-07  \n",
       "48  4.800000e-07  \n",
       "72  7.200000e-07  \n",
       "96  9.600000e-07  \n",
       "\n",
       "[5 rows x 41 columns]"
      ]
     },
     "metadata": {},
     "output_type": "display_data"
    }
   ],
   "source": [
    "\n",
    "# results = [queue.get(i) for i in queue]\n",
    "n_jobs = 7\n",
    "results = []\n",
    "for i in range(n_jobs):\n",
    "    results.append(pd.read_csv(data_path / \"augmented\" / f\"results_{i}.csv\"))\n",
    "    # os.remove(data_path / \"augmented\" / f\"results_{i}.csv\")\n",
    "df = pd.concat(results)\n",
    "df.sort_values(\"counter\", inplace =  True)\n",
    "\n",
    "df.to_csv(data_path / \"augmented\" / \"products_info.csv\", index=False)\n",
    "display(df.head())"
   ]
  },
  {
   "cell_type": "markdown",
   "id": "6d46d4b9",
   "metadata": {},
   "source": [
    "## Kaggle Style"
   ]
  },
  {
   "cell_type": "code",
   "execution_count": null,
   "id": "ae17811a",
   "metadata": {
    "ExecuteTime": {
     "start_time": "2021-10-26T22:27:00.143Z"
    }
   },
   "outputs": [],
   "source": [
    "order_products = order_products__prior.append(order_products__train)\n",
    "print(len(order_products))\n",
    "display(order_products.head())"
   ]
  },
  {
   "cell_type": "code",
   "execution_count": null,
   "id": "0414ee55",
   "metadata": {
    "ExecuteTime": {
     "start_time": "2021-10-26T22:27:00.145Z"
    }
   },
   "outputs": [],
   "source": [
    "orders_df = orders.copy()\n",
    "print(len(orders_df))\n",
    "display(orders_df.head())"
   ]
  },
  {
   "cell_type": "code",
   "execution_count": null,
   "id": "60bdd004",
   "metadata": {
    "ExecuteTime": {
     "start_time": "2021-10-26T22:27:00.147Z"
    }
   },
   "outputs": [],
   "source": [
    "# If this cell errors, re run all cells below kaggle style becaue if cell is run twice, duplicate colunm names get appended with _x and _y.\n",
    "order_products = order_products.merge(products,how=\"left\", on=\"product_id\")\n",
    "order_products = order_products.merge(departments,how=\"left\", on=\"department_id\")\n",
    "order_products = order_products.merge(aisles,how=\"left\", on=\"aisle_id\")\n"
   ]
  },
  {
   "cell_type": "code",
   "execution_count": null,
   "id": "2a579045",
   "metadata": {
    "ExecuteTime": {
     "start_time": "2021-10-26T22:27:00.148Z"
    }
   },
   "outputs": [],
   "source": [
    "display(order_products.head())"
   ]
  },
  {
   "cell_type": "code",
   "execution_count": null,
   "id": "cbca6d60",
   "metadata": {
    "ExecuteTime": {
     "start_time": "2021-10-26T22:27:00.150Z"
    }
   },
   "outputs": [],
   "source": [
    "display(order_products.loc[order_products[\"order_id\"] == 112])"
   ]
  },
  {
   "cell_type": "markdown",
   "id": "7d34a4b4",
   "metadata": {},
   "source": [
    "## Functions"
   ]
  },
  {
   "cell_type": "code",
   "execution_count": null,
   "id": "61387cb1",
   "metadata": {
    "ExecuteTime": {
     "start_time": "2021-10-26T22:27:00.169Z"
    }
   },
   "outputs": [],
   "source": [
    "def find_items_in_order_mp(df, data_path, counter):\n",
    "    start = time.time()\n",
    "    idxs = list(df.index)\n",
    "    # df[\"counter\"] = counter\n",
    "    for i in idxs:\n",
    "        \n",
    "        product_id = df.loc[i, \"product_id\"]\n",
    "        x = order_products[product_id == order_products[\"product_id\"]]\n",
    "        orders = list(x[\"order_id\"].unique())\n",
    "        items = 0\n",
    "        for j in orders:\n",
    "            items += len(order_products[j == order_products[\"order_id\"]][\"product_id\"].unique())\n",
    "        if len(orders) == 0:\n",
    "            df.loc[i, \"items_in_order_average\"] = 0\n",
    "        else:\n",
    "            df.loc[i, \"items_in_order_average\"] = items / len(orders)\n",
    "        \n",
    "        \n",
    "        \n",
    "\n",
    "        if counter < 1 and i % 24 == 0:\n",
    "            now = time.time()\n",
    "            print(\" \\n\\n\\nthe program has elapsed for (mins): \" + str(round(((start - time)/60), 2)))\n",
    "            print(\"percentage completed: \" + str(round(idxs.index(i) * 100 / len(df))))\n",
    "            df.loc[i, \"counter\"] = counter\n",
    "        \n",
    "        counter += 1e-8\n",
    "        \n",
    "        \n",
    "        \n",
    "    # queue.put(results)\n",
    "    df.to_csv(data_path / \"augmented\" / f\"results_{int(counter)}.csv\")"
   ]
  },
  {
   "cell_type": "code",
   "execution_count": null,
   "id": "0d89dfe7",
   "metadata": {
    "ExecuteTime": {
     "start_time": "2021-10-26T22:27:00.170Z"
    }
   },
   "outputs": [],
   "source": [
    "def get_items(order_id):\n",
    "    x = order_products.loc[order_products[\"order_id\"] == order_id]\n",
    "    lst = []\n",
    "    for i in x.index:\n",
    "        lst.append(order_products.loc[i, \"product_id\"])\n",
    "    lst = list(sorted(set(lst)))\n",
    "    lst = [str(i) for i in lst]\n",
    "    return \" \".join(lst)\n",
    "\n",
    "def get_items_mp(df, data_path, counter):\n",
    "    df[\"items\"] = \"\"\n",
    "    start = time.time()\n",
    "    df.reset_index(drop=True, inplace=True)\n",
    "    for i in range(len(df)):\n",
    "        order_id = df.loc[i, \"order_id\"]\n",
    "        x = order_products.loc[order_products[\"order_id\"] == order_id]\n",
    "        lst = []\n",
    "        for j in x.index:\n",
    "            lst.append(df.loc[j, \"product_id\"])\n",
    "        lst = list(sorted(set(lst)))\n",
    "        lst = [str(j) for j in lst]\n",
    "        df.loc[i, \"items\"] = \" \".join(lst)\n",
    "\n",
    "        if counter < 1 and i % 24 == 0:\n",
    "            now = time.time()\n",
    "            print(\" \\n\\n\\nthe program has elapsed for (mins): \" + str(round(((now - start)/60), 2)))\n",
    "            print(\"percentage completed: \" + str(round(i * 100 / len(df))))\n",
    "            df.loc[i, \"counter\"] = counter\n",
    "        \n",
    "        counter += 1e-8\n",
    "    \n",
    "    df.to_csv(data_path / \"augmented\" / f\"kaggle_{int(counter)}.csv\", index=False)\n",
    "        \n",
    "\n",
    "\n"
   ]
  },
  {
   "cell_type": "code",
   "execution_count": null,
   "id": "68742132",
   "metadata": {
    "ExecuteTime": {
     "start_time": "2021-10-26T22:27:00.171Z"
    }
   },
   "outputs": [],
   "source": [
    "print(get_items(112))"
   ]
  },
  {
   "cell_type": "code",
   "execution_count": null,
   "id": "8fcf314c",
   "metadata": {
    "ExecuteTime": {
     "start_time": "2021-10-26T22:27:00.172Z"
    }
   },
   "outputs": [],
   "source": [
    "# for loop: 118\n",
    "test = orders_df.sample(frac=0.001)\n",
    "test[\"items\"] = \"\"\n",
    "print(len(orders_df))\n",
    "print(len(test))\n",
    "\n",
    "test[\"items\"] = test[\"order_id\"].apply(get_items)\n",
    "# for i in test.index:\n",
    "#     test.loc[i, \"items\"] = get_items(test.loc[i, \"order_id\"])\n",
    "\n"
   ]
  },
  {
   "cell_type": "code",
   "execution_count": null,
   "id": "42c1eac3",
   "metadata": {
    "ExecuteTime": {
     "start_time": "2021-10-26T22:27:00.173Z"
    }
   },
   "outputs": [],
   "source": [
    "orders_df = orders_df.sample(frac=0.5)\n",
    "n_jobs = 7\n",
    "df_split = np.array_split(orders_df, n_jobs)\n",
    "jobs = []\n",
    "counter = 0\n",
    "for i in range(n_jobs):\n",
    "    task = mp.Process(target = get_items_mp, args = (df_split[i], data_path, counter))\n",
    "    jobs.append(task)\n",
    "    counter += 1\n",
    "\n",
    "\n",
    "\n",
    "\n",
    "\n",
    "for task in jobs:\n",
    "    task.start()\n",
    "\n",
    "\n",
    "\n",
    "\n",
    "for task in jobs:\n",
    "    task.join()\n",
    "    "
   ]
  },
  {
   "cell_type": "code",
   "execution_count": null,
   "id": "3e0f0375",
   "metadata": {
    "ExecuteTime": {
     "start_time": "2021-10-26T22:27:00.174Z"
    }
   },
   "outputs": [],
   "source": [
    "dfs = []\n",
    "for i in range(n_jobs):\n",
    "\n",
    "    dfs.append(pd.read_csv(data_path / \"augmented\" / f\"kaggle_{i}.csv\"))\n",
    "    # os.remove(data_path / \"augmented\" / f\"kaggle_{i}.csv\")\n",
    "df = pd.concat(dfs)\n",
    "df.to_csv(data_path / \"augmented\" / \"kaggle_orders.csv\")"
   ]
  },
  {
   "cell_type": "code",
   "execution_count": null,
   "id": "a4799253",
   "metadata": {
    "ExecuteTime": {
     "start_time": "2021-10-26T22:27:00.175Z"
    }
   },
   "outputs": [],
   "source": [
    "product_book = order_products.drop_duplicates(subset=[\"product_id\"])\n",
    "product_book.sort_values(by=[\"product_id\"], inplace = True)\n",
    "display(product_book.head())"
   ]
  }
 ],
 "metadata": {
  "interpreter": {
   "hash": "ffe12c0aef03457dfb03fa536b404d4cd625bcce2d3e4e3ca047c28bfbc7946a"
  },
  "kernelspec": {
   "display_name": "Python 3.9.4 64-bit",
   "name": "python3"
  },
  "language_info": {
   "codemirror_mode": {
    "name": "ipython",
    "version": 3
   },
   "file_extension": ".py",
   "mimetype": "text/x-python",
   "name": "python",
   "nbconvert_exporter": "python",
   "pygments_lexer": "ipython3",
   "version": "3.9.4"
  },
  "toc": {
   "base_numbering": 1,
   "nav_menu": {},
   "number_sections": true,
   "sideBar": true,
   "skip_h1_title": false,
   "title_cell": "Table of Contents",
   "title_sidebar": "Contents",
   "toc_cell": false,
   "toc_position": {
    "height": "calc(100% - 180px)",
    "left": "10px",
    "top": "150px",
    "width": "504.19px"
   },
   "toc_section_display": true,
   "toc_window_display": true
  },
  "varInspector": {
   "cols": {
    "lenName": 16,
    "lenType": 16,
    "lenVar": 40
   },
   "kernels_config": {
    "python": {
     "delete_cmd_postfix": "",
     "delete_cmd_prefix": "del ",
     "library": "var_list.py",
     "varRefreshCmd": "print(var_dic_list())"
    },
    "r": {
     "delete_cmd_postfix": ") ",
     "delete_cmd_prefix": "rm(",
     "library": "var_list.r",
     "varRefreshCmd": "cat(var_dic_list()) "
    }
   },
   "types_to_exclude": [
    "module",
    "function",
    "builtin_function_or_method",
    "instance",
    "_Feature"
   ],
   "window_display": false
  }
 },
 "nbformat": 4,
 "nbformat_minor": 5
}
